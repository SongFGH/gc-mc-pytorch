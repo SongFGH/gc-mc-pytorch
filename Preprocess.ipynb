{
 "cells": [
  {
   "cell_type": "markdown",
   "metadata": {},
   "source": [
    "# Train/Valid/Test split"
   ]
  },
  {
   "cell_type": "code",
   "execution_count": 1,
   "metadata": {},
   "outputs": [],
   "source": [
    "import numpy as np\n",
    "import pandas as pd\n",
    "import torch"
   ]
  },
  {
   "cell_type": "code",
   "execution_count": 15,
   "metadata": {},
   "outputs": [],
   "source": [
    "# UserID::Gender::Age::Occupation::Zip-code\n",
    "# MovieID::Title::Genres\n",
    "# UserID::MovieID::Rating::Timestamp (5-star scale)\n",
    "\n",
    "# Importing the dataset\n",
    "#movies = pd.read_csv('./data/ml_1m/movies.dat', sep = '::', header = None, engine = 'python', encoding = 'latin-1')\n",
    "#users = pd.read_csv('./data/ml_1m/users.dat', sep = '::', header = None, engine = 'python', encoding = 'latin-1')\n",
    "ratings = pd.read_csv('./data/ml_1m/ratings.dat', sep = '::', header = None, engine = 'python', encoding = 'latin-1')\n"
   ]
  },
  {
   "cell_type": "code",
   "execution_count": 14,
   "metadata": {},
   "outputs": [],
   "source": [
    "total_length = len(ratings)\n",
    "ratings = ratings.sample(frac=1)\n",
    "\n",
    "len_train = int(total_length*0.85)\n",
    "len_val   = int(total_length*0.9)\n",
    "\n",
    "rating_train = ratings[:len_train]\n",
    "rating_val   = ratings[len_train:len_val]\n",
    "rating_test  = ratings[len_val:len_test]"
   ]
  },
  {
   "cell_type": "code",
   "execution_count": 17,
   "metadata": {},
   "outputs": [],
   "source": [
    "num_users  = 6040\n",
    "num_items = 3953\n",
    "rating_cnt = 5"
   ]
  },
  {
   "cell_type": "code",
   "execution_count": 25,
   "metadata": {},
   "outputs": [],
   "source": [
    "for i, ratings in enumerate([rating_train, rating_val, rating_test]):\n",
    "    rating_mtx = torch.zeros(rating_cnt, num_users, num_items)\n",
    "    \n",
    "    for index, row in ratings.iterrows():\n",
    "        u = row[0]-1\n",
    "        v = row[1]-1\n",
    "        r = row[2]-1\n",
    "        \n",
    "        rating_mtx[r, u, v] = 1\n",
    "    torch.save(rating_mtx, './data/rating_%d.pkl'%i)"
   ]
  }
 ],
 "metadata": {
  "kernelspec": {
   "display_name": "Python 3",
   "language": "python",
   "name": "python3"
  },
  "language_info": {
   "codemirror_mode": {
    "name": "ipython",
    "version": 3
   },
   "file_extension": ".py",
   "mimetype": "text/x-python",
   "name": "python",
   "nbconvert_exporter": "python",
   "pygments_lexer": "ipython3",
   "version": "3.5.2"
  }
 },
 "nbformat": 4,
 "nbformat_minor": 2
}
